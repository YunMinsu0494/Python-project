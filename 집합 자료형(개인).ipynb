{
 "cells": [
  {
   "cell_type": "code",
   "execution_count": 2,
   "id": "09433cad-056c-4fb4-a3f5-dfa2d0c9efff",
   "metadata": {},
   "outputs": [],
   "source": [
    "#집합 자료형 -> 중복된 데이터를 없애고 고유한 데이터만 봐야할때\n",
    "#1. 순서가 없다.\n",
    "#2. 중복을 허용하지 않는다.\n",
    "A={1,2,3,4,5,6}\n",
    "B={4,5,6,7,8,9}"
   ]
  },
  {
   "cell_type": "code",
   "execution_count": null,
   "id": "8c2ab118-256c-47fe-b76d-98ed43f9b2f2",
   "metadata": {},
   "outputs": [],
   "source": [
    "C={} #딕셔너리\n",
    "C=dict()\n",
    "D=set() #비어있는 집합"
   ]
  },
  {
   "cell_type": "code",
   "execution_count": 3,
   "id": "1b4c88dd-1b9b-42b9-b9dd-5e79ea5c9167",
   "metadata": {},
   "outputs": [
    {
     "data": {
      "text/plain": [
       "{4, 5, 6}"
      ]
     },
     "execution_count": 3,
     "metadata": {},
     "output_type": "execute_result"
    }
   ],
   "source": [
    "#교집합\n",
    "A&B"
   ]
  },
  {
   "cell_type": "code",
   "execution_count": 4,
   "id": "13b89536-3909-49d0-be9d-41518f55a7ed",
   "metadata": {
    "collapsed": true,
    "jupyter": {
     "outputs_hidden": true
    },
    "scrolled": true
   },
   "outputs": [
    {
     "data": {
      "text/plain": [
       "{1, 2, 3, 4, 5, 6, 7, 8, 9}"
      ]
     },
     "execution_count": 4,
     "metadata": {},
     "output_type": "execute_result"
    }
   ],
   "source": [
    "#합집합\n",
    "A|B"
   ]
  },
  {
   "cell_type": "code",
   "execution_count": 5,
   "id": "690d38db-95ea-445f-99e5-8e6de907e385",
   "metadata": {},
   "outputs": [
    {
     "data": {
      "text/plain": [
       "{1, 2, 3, 7, 8, 9}"
      ]
     },
     "execution_count": 5,
     "metadata": {},
     "output_type": "execute_result"
    }
   ],
   "source": [
    "#대칭차집합: 합집합에서 교집합 뺀것\n",
    "A^B"
   ]
  },
  {
   "cell_type": "code",
   "execution_count": 6,
   "id": "e6999cb4-87ec-4ae7-ad63-ccb10f275ce4",
   "metadata": {},
   "outputs": [
    {
     "data": {
      "text/plain": [
       "{1, 2, 3, 4, 5, 6, 7}"
      ]
     },
     "execution_count": 6,
     "metadata": {},
     "output_type": "execute_result"
    }
   ],
   "source": [
    "A.add(7) #한개의 값을 추가할떄 -> add\n",
    "A"
   ]
  },
  {
   "cell_type": "code",
   "execution_count": 7,
   "id": "67b6b8e3-4b9c-4503-bde0-f3a09894ef0d",
   "metadata": {},
   "outputs": [
    {
     "data": {
      "text/plain": [
       "{1, 2, 3, 4, 5, 6, 7, 8, 9, 10}"
      ]
     },
     "execution_count": 7,
     "metadata": {},
     "output_type": "execute_result"
    }
   ],
   "source": [
    "A.update([7,8,9,10]) #한번에 여러개의 값을 추가할때\n",
    "A"
   ]
  },
  {
   "cell_type": "code",
   "execution_count": 8,
   "id": "622ebc77-3080-4a7c-9a95-b2d10813cff5",
   "metadata": {},
   "outputs": [
    {
     "data": {
      "text/plain": [
       "{1, 2, 3, 4, 5, 6, 7, 8, 9}"
      ]
     },
     "execution_count": 8,
     "metadata": {},
     "output_type": "execute_result"
    }
   ],
   "source": [
    "#값 제거\n",
    "A.remove(10)\n",
    "A"
   ]
  },
  {
   "cell_type": "code",
   "execution_count": 10,
   "id": "5bf6441a-ee29-4cb4-bb31-bfa7926d1c98",
   "metadata": {},
   "outputs": [
    {
     "data": {
      "text/plain": [
       "(True, True)"
      ]
     },
     "execution_count": 10,
     "metadata": {},
     "output_type": "execute_result"
    }
   ],
   "source": [
    "A={1,2,3}\n",
    "B={1,2,3,4}\n",
    "\n",
    "A<=B, A<B"
   ]
  },
  {
   "cell_type": "code",
   "execution_count": 12,
   "id": "9e86f506-0134-402a-922d-068ea3127f46",
   "metadata": {},
   "outputs": [
    {
     "data": {
      "text/plain": [
       "True"
      ]
     },
     "execution_count": 12,
     "metadata": {},
     "output_type": "execute_result"
    }
   ],
   "source": [
    "#공통된 원소가 없다=서로소\n",
    "A={1,2}\n",
    "B={3,4}\n",
    "\n",
    "A.isdisjoint(B) # -> 서로소인지 확인하는 드드"
   ]
  },
  {
   "cell_type": "code",
   "execution_count": null,
   "id": "e73fdfb9-9d6f-4db8-beed-2edb208675b4",
   "metadata": {},
   "outputs": [],
   "source": []
  }
 ],
 "metadata": {
  "kernelspec": {
   "display_name": "Python 3 (ipykernel)",
   "language": "python",
   "name": "python3"
  },
  "language_info": {
   "codemirror_mode": {
    "name": "ipython",
    "version": 3
   },
   "file_extension": ".py",
   "mimetype": "text/x-python",
   "name": "python",
   "nbconvert_exporter": "python",
   "pygments_lexer": "ipython3",
   "version": "3.12.7"
  }
 },
 "nbformat": 4,
 "nbformat_minor": 5
}
