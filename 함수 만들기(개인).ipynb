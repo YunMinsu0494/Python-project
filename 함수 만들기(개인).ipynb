{
 "cells": [
  {
   "cell_type": "code",
   "execution_count": 1,
   "id": "65cbe470-e4db-4ab8-9cfc-117b3b68427b",
   "metadata": {},
   "outputs": [],
   "source": [
    "#함수만들기\n",
    "#def 함수이름(재료1, 재료2, ...):\n",
    "#   return 아웃풋\n",
    "def add(A,B):\n",
    "    return A+B"
   ]
  },
  {
   "cell_type": "code",
   "execution_count": 2,
   "id": "6db27c11-26db-4d19-b9e9-f265d1fbf2f1",
   "metadata": {},
   "outputs": [
    {
     "data": {
      "text/plain": [
       "9"
      ]
     },
     "execution_count": 2,
     "metadata": {},
     "output_type": "execute_result"
    }
   ],
   "source": [
    "z=add(2,7)\n",
    "z"
   ]
  },
  {
   "cell_type": "code",
   "execution_count": 5,
   "id": "e7eeb122-b61b-4957-a6e5-aa1ffdc1d8a2",
   "metadata": {},
   "outputs": [
    {
     "name": "stdin",
     "output_type": "stream",
     "text": [
      "밑변의 길이:  3\n",
      "높이의 길이:  4\n"
     ]
    },
    {
     "data": {
      "text/plain": [
       "5.0"
      ]
     },
     "execution_count": 5,
     "metadata": {},
     "output_type": "execute_result"
    }
   ],
   "source": [
    "#퀴즈: 직각삼각형의 밑변길이와 높이의 길이를 넣어주면 빗변의 길이를 반환하는 함수\n",
    "a=int(input(\"밑변의 길이: \"))\n",
    "b=int(input(\"높이의 길이: \"))\n",
    "def length(a,b):\n",
    "    return (a**2+b**2)**(1/2)\n",
    "c=length(a,b)\n",
    "c"
   ]
  },
  {
   "cell_type": "code",
   "execution_count": 8,
   "id": "545b0d55-354f-42b6-a553-39845f51dc2f",
   "metadata": {},
   "outputs": [
    {
     "data": {
      "text/plain": [
       "'Hello'"
      ]
     },
     "execution_count": 8,
     "metadata": {},
     "output_type": "execute_result"
    }
   ],
   "source": [
    "def say():\n",
    "    return \"Hello\"\n",
    "\n",
    "z=say()\n",
    "z"
   ]
  },
  {
   "cell_type": "code",
   "execution_count": 9,
   "id": "437cd2ed-e827-40ea-9662-47d68759d04d",
   "metadata": {},
   "outputs": [],
   "source": [
    "def add(A,B):\n",
    "    print(A+B)"
   ]
  },
  {
   "cell_type": "code",
   "execution_count": 10,
   "id": "01aaadb7-9683-4d11-8f2b-cfdfb9c0054d",
   "metadata": {},
   "outputs": [
    {
     "name": "stdout",
     "output_type": "stream",
     "text": [
      "10\n"
     ]
    }
   ],
   "source": [
    "z=add(3,7)"
   ]
  },
  {
   "cell_type": "code",
   "execution_count": 11,
   "id": "19d62ed6-d1e2-4d22-ba48-8c3276004e8e",
   "metadata": {},
   "outputs": [
    {
     "name": "stdout",
     "output_type": "stream",
     "text": [
      "None\n"
     ]
    }
   ],
   "source": [
    "print(z)"
   ]
  },
  {
   "cell_type": "code",
   "execution_count": 12,
   "id": "0c4a29a6-b58c-4388-8a78-85d578017694",
   "metadata": {},
   "outputs": [],
   "source": [
    "def func(A,B):\n",
    "    return A+B, A-B, A*B, A/B"
   ]
  },
  {
   "cell_type": "code",
   "execution_count": 16,
   "id": "2dc7358b-e247-4d2f-a20f-5d9b1d4bb45f",
   "metadata": {},
   "outputs": [],
   "source": [
    "a,b,c,d=func(B=5,A=2)"
   ]
  },
  {
   "cell_type": "code",
   "execution_count": 17,
   "id": "a19d4b13-818b-4356-a97c-fc10cdf1317c",
   "metadata": {},
   "outputs": [
    {
     "name": "stdout",
     "output_type": "stream",
     "text": [
      "7 -3 10 0.4\n"
     ]
    }
   ],
   "source": [
    "print(a,b,c,d)"
   ]
  },
  {
   "cell_type": "code",
   "execution_count": 20,
   "id": "2a076f0b-8910-46de-9948-88d3ddb8821b",
   "metadata": {},
   "outputs": [
    {
     "name": "stdout",
     "output_type": "stream",
     "text": [
      "나의 이름은 장원영이고, 20살 입니다.\n",
      "여자입니다.\n"
     ]
    }
   ],
   "source": [
    "def intro(name, age, sex=5):\n",
    "    print(f\"나의 이름은 {name}이고, {age}살 입니다.\")\n",
    "    if sex==5:\n",
    "        print(\"남자입니다.\")\n",
    "    else:\n",
    "        print(\"여자입니다.\")\n",
    "\n",
    "intro(\"장원영\", 20, 8)"
   ]
  },
  {
   "cell_type": "code",
   "execution_count": 23,
   "id": "95cf13d4-0683-4e51-888c-075f116556f7",
   "metadata": {},
   "outputs": [
    {
     "data": {
      "text/plain": [
       "(2, 3, 4)"
      ]
     },
     "execution_count": 23,
     "metadata": {},
     "output_type": "execute_result"
    }
   ],
   "source": [
    "def func(*x):\n",
    "    return x\n",
    "\n",
    "print(func(2,3,4))"
   ]
  },
  {
   "cell_type": "code",
   "execution_count": 24,
   "id": "51779304-edb8-43d6-9305-9d330375b344",
   "metadata": {},
   "outputs": [
    {
     "data": {
      "text/plain": [
       "{'name': '홍길동', 'age': 40}"
      ]
     },
     "execution_count": 24,
     "metadata": {},
     "output_type": "execute_result"
    }
   ],
   "source": [
    "def func(**x):\n",
    "    return x\n",
    "\n",
    "func(name=\"홍길동\", age=40)"
   ]
  },
  {
   "cell_type": "code",
   "execution_count": 28,
   "id": "ce86e91a-a34b-4d9f-a8b6-a605a760df5d",
   "metadata": {},
   "outputs": [
    {
     "name": "stdout",
     "output_type": "stream",
     "text": [
      "5\n"
     ]
    }
   ],
   "source": [
    "#함수 안에 있는 변수는 함수 안에서만 영향을 미친다.\n",
    "def func():\n",
    "    global a #여기서 사용하는 변수 a는 전역변수다.\n",
    "    a=5 #지역변수\n",
    "\n",
    "a=0 #전역변수\n",
    "func()\n",
    "print(a)"
   ]
  },
  {
   "cell_type": "code",
   "execution_count": 32,
   "id": "e050aca3-9304-4223-9ba5-2b2d9c7e00c0",
   "metadata": {},
   "outputs": [],
   "source": [
    "def func(n):\n",
    "    def func2(x):\n",
    "        return x*n\n",
    "    return func2"
   ]
  },
  {
   "cell_type": "code",
   "execution_count": 33,
   "id": "01576aa2-299f-4d30-a991-f6582d70a9f9",
   "metadata": {},
   "outputs": [
    {
     "data": {
      "text/plain": [
       "30"
      ]
     },
     "execution_count": 33,
     "metadata": {},
     "output_type": "execute_result"
    }
   ],
   "source": [
    "func_A=func(3)\n",
    "func_A(10)"
   ]
  },
  {
   "cell_type": "code",
   "execution_count": null,
   "id": "f3954d49-bc83-4cb0-858d-d1787faa8b1d",
   "metadata": {},
   "outputs": [],
   "source": []
  }
 ],
 "metadata": {
  "kernelspec": {
   "display_name": "Python 3 (ipykernel)",
   "language": "python",
   "name": "python3"
  },
  "language_info": {
   "codemirror_mode": {
    "name": "ipython",
    "version": 3
   },
   "file_extension": ".py",
   "mimetype": "text/x-python",
   "name": "python",
   "nbconvert_exporter": "python",
   "pygments_lexer": "ipython3",
   "version": "3.12.7"
  }
 },
 "nbformat": 4,
 "nbformat_minor": 5
}
