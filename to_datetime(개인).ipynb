{
 "cells": [
  {
   "cell_type": "code",
   "execution_count": 14,
   "id": "4590de40-7b58-4f49-a561-24ee1d0be28d",
   "metadata": {},
   "outputs": [
    {
     "data": {
      "text/plain": [
       "0   2025-02-13 14:30:00\n",
       "1   2025-08-01 09:15:00\n",
       "2   2025-04-15 13:27:15\n",
       "dtype: datetime64[ns]"
      ]
     },
     "execution_count": 14,
     "metadata": {},
     "output_type": "execute_result"
    }
   ],
   "source": [
    "# to_datetime()\n",
    "import pandas as pd\n",
    "s = pd.Series([\"2025-02-13 14:30:00\", \"2025-08-01 09:15:00\", \"2025-04-15 13:27:15\"])\n",
    "\n",
    "s = pd.to_datetime(s, format = \"%Y-%m-%d %H:%M:%S\")\n",
    "s"
   ]
  },
  {
   "cell_type": "code",
   "execution_count": 8,
   "id": "0403b1cb-4430-44e8-b195-6d33835ecf15",
   "metadata": {},
   "outputs": [
    {
     "data": {
      "text/plain": [
       "0   1970-01-15 09:02:21\n",
       "1   1970-03-01 07:05:22\n",
       "2   1970-05-26 06:27:03\n",
       "dtype: datetime64[ns]"
      ]
     },
     "execution_count": 8,
     "metadata": {},
     "output_type": "execute_result"
    }
   ],
   "source": [
    "# Unix 타임스탬프 // 1970년도 1월 1일 오전 0시부터 몇초 지난 시간\n",
    "s = pd.Series([1242141, 5123122, 12551223])\n",
    "pd.to_datetime(s, unit = \"s\")"
   ]
  },
  {
   "cell_type": "code",
   "execution_count": 16,
   "id": "8dcfda40-7411-4b84-a2e6-95873c89a4db",
   "metadata": {},
   "outputs": [
    {
     "data": {
      "text/plain": [
       "(0    2025\n",
       " 1    2025\n",
       " 2    2025\n",
       " dtype: int32,\n",
       " 0    2\n",
       " 1    8\n",
       " 2    4\n",
       " dtype: int32,\n",
       " 0    13\n",
       " 1     1\n",
       " 2    15\n",
       " dtype: int32,\n",
       " 0    14\n",
       " 1     9\n",
       " 2    13\n",
       " dtype: int32,\n",
       " 0    30\n",
       " 1    15\n",
       " 2    27\n",
       " dtype: int32,\n",
       " 0     0\n",
       " 1     0\n",
       " 2    15\n",
       " dtype: int32)"
      ]
     },
     "execution_count": 16,
     "metadata": {},
     "output_type": "execute_result"
    }
   ],
   "source": [
    "s = pd.Series([\"2025-02-13 14:30:00\", \"2025-08-01 09:15:00\", \"2025-04-15 13:27:15\"])\n",
    "\n",
    "s = pd.to_datetime(s, format = \"%Y-%m-%d %H:%M:%S\", errors = \"coerce\") #errors = \"coerce\" : 못바꾸는걸 누락값으로 변경 시키는 코드\n",
    "s.dt.year, s.dt.month, s.dt.day, s.dt.hour, s.dt.minute, s.dt.second"
   ]
  },
  {
   "cell_type": "code",
   "execution_count": 17,
   "id": "a5546007-2bdf-45b8-aeb1-2ac2f4b9e556",
   "metadata": {},
   "outputs": [
    {
     "data": {
      "text/plain": [
       "0    3\n",
       "1    4\n",
       "2    1\n",
       "dtype: int32"
      ]
     },
     "execution_count": 17,
     "metadata": {},
     "output_type": "execute_result"
    }
   ],
   "source": [
    "s.dt.dayofweek #0은 월요일"
   ]
  },
  {
   "cell_type": "code",
   "execution_count": 19,
   "id": "1c55af4c-81b3-42b0-91f3-dbfd609ccdbd",
   "metadata": {},
   "outputs": [
    {
     "data": {
      "text/plain": [
       "0    Thursday\n",
       "1      Friday\n",
       "2     Tuesday\n",
       "dtype: object"
      ]
     },
     "execution_count": 19,
     "metadata": {},
     "output_type": "execute_result"
    }
   ],
   "source": [
    "s.dt.day_name()"
   ]
  },
  {
   "cell_type": "code",
   "execution_count": 22,
   "id": "eb6a401b-247a-4930-ad9f-ebb24698d6d7",
   "metadata": {},
   "outputs": [
    {
     "data": {
      "text/plain": [
       "0    False\n",
       "1    False\n",
       "2    False\n",
       "dtype: bool"
      ]
     },
     "execution_count": 22,
     "metadata": {},
     "output_type": "execute_result"
    }
   ],
   "source": [
    "s.dt.is_month_end #월 말인지 확인"
   ]
  },
  {
   "cell_type": "code",
   "execution_count": 23,
   "id": "f6aacc40-2373-4860-9c0e-8c4dca59d989",
   "metadata": {},
   "outputs": [
    {
     "data": {
      "text/plain": [
       "0    False\n",
       "1     True\n",
       "2    False\n",
       "dtype: bool"
      ]
     },
     "execution_count": 23,
     "metadata": {},
     "output_type": "execute_result"
    }
   ],
   "source": [
    "s.dt.is_month_start # 월 초인지 확인"
   ]
  },
  {
   "cell_type": "code",
   "execution_count": 26,
   "id": "c06ce37f-991a-4d2e-b53f-20a41edf46ca",
   "metadata": {},
   "outputs": [
    {
     "data": {
      "text/plain": [
       "0    1\n",
       "1    3\n",
       "2    2\n",
       "dtype: int32"
      ]
     },
     "execution_count": 26,
     "metadata": {},
     "output_type": "execute_result"
    }
   ],
   "source": [
    "s.dt.quarter # 몇 분기인지 확인"
   ]
  },
  {
   "cell_type": "code",
   "execution_count": 27,
   "id": "a880713b-a11b-4787-83a5-36dde5ca5bd7",
   "metadata": {},
   "outputs": [
    {
     "data": {
      "text/plain": [
       "0    2025-02\n",
       "1    2025-08\n",
       "2    2025-04\n",
       "dtype: period[M]"
      ]
     },
     "execution_count": 27,
     "metadata": {},
     "output_type": "execute_result"
    }
   ],
   "source": [
    "s.dt.to_period(\"M\") # ()안의 값까지만 출력"
   ]
  },
  {
   "cell_type": "code",
   "execution_count": null,
   "id": "b5b4d1a3-a4cd-4a40-909a-b322ded09a9a",
   "metadata": {},
   "outputs": [],
   "source": []
  }
 ],
 "metadata": {
  "kernelspec": {
   "display_name": "Python 3 (ipykernel)",
   "language": "python",
   "name": "python3"
  },
  "language_info": {
   "codemirror_mode": {
    "name": "ipython",
    "version": 3
   },
   "file_extension": ".py",
   "mimetype": "text/x-python",
   "name": "python",
   "nbconvert_exporter": "python",
   "pygments_lexer": "ipython3",
   "version": "3.12.7"
  }
 },
 "nbformat": 4,
 "nbformat_minor": 5
}
