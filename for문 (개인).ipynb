{
 "cells": [
  {
   "cell_type": "code",
   "execution_count": 2,
   "id": "9d02fcc2-8b40-4768-920b-d7f0c053f9eb",
   "metadata": {},
   "outputs": [
    {
     "name": "stdout",
     "output_type": "stream",
     "text": [
      "P\n",
      "y\n",
      "t\n",
      "h\n",
      "o\n",
      "n\n"
     ]
    }
   ],
   "source": [
    "#반복문 for문\n",
    "#for 변수이름 in 반복하고 싶은것:\n",
    "text=\"Python\"\n",
    "#변수 text 안에 있는것들을 순서대로 변수 t에 넣는다.\n",
    "for t in text:\n",
    "    print(t)"
   ]
  },
  {
   "cell_type": "code",
   "execution_count": 4,
   "id": "51ff1147-55f7-49e6-8f48-d901749cc0a6",
   "metadata": {},
   "outputs": [
    {
     "name": "stdout",
     "output_type": "stream",
     "text": [
      "1\n",
      "3\n",
      "5\n",
      "4\n",
      "2\n"
     ]
    }
   ],
   "source": [
    "box=[1,3,5,4,2]\n",
    "for n in box:\n",
    "    print(n)"
   ]
  },
  {
   "cell_type": "code",
   "execution_count": 5,
   "id": "cd22a4ac-2ccb-45cd-8e78-cd64b28b1b03",
   "metadata": {},
   "outputs": [
    {
     "data": {
      "text/plain": [
       "2"
      ]
     },
     "execution_count": 5,
     "metadata": {},
     "output_type": "execute_result"
    }
   ],
   "source": [
    "n"
   ]
  },
  {
   "cell_type": "code",
   "execution_count": 9,
   "id": "71d5a655-774b-4734-a6d3-166ccd00ca18",
   "metadata": {},
   "outputs": [
    {
     "name": "stdout",
     "output_type": "stream",
     "text": [
      "10\n",
      "9\n",
      "8\n",
      "7\n",
      "6\n",
      "5\n",
      "4\n",
      "3\n",
      "2\n",
      "1\n"
     ]
    }
   ],
   "source": [
    "for i in range(10,0,-1):\n",
    "    print(i)"
   ]
  },
  {
   "cell_type": "code",
   "execution_count": 10,
   "id": "84365bcf-218c-4c82-a27e-bb22a257c2ee",
   "metadata": {},
   "outputs": [
    {
     "name": "stdout",
     "output_type": "stream",
     "text": [
      "2X1=2\n",
      "2X2=4\n",
      "2X3=6\n",
      "2X4=8\n",
      "2X5=10\n",
      "2X6=12\n",
      "2X7=14\n",
      "2X8=16\n",
      "2X9=18\n",
      "\n",
      "3X1=3\n",
      "3X2=6\n",
      "3X3=9\n",
      "3X4=12\n",
      "3X5=15\n",
      "3X6=18\n",
      "3X7=21\n",
      "3X8=24\n",
      "3X9=27\n",
      "\n",
      "4X1=4\n",
      "4X2=8\n",
      "4X3=12\n",
      "4X4=16\n",
      "4X5=20\n",
      "4X6=24\n",
      "4X7=28\n",
      "4X8=32\n",
      "4X9=36\n",
      "\n",
      "5X1=5\n",
      "5X2=10\n",
      "5X3=15\n",
      "5X4=20\n",
      "5X5=25\n",
      "5X6=30\n",
      "5X7=35\n",
      "5X8=40\n",
      "5X9=45\n",
      "\n",
      "6X1=6\n",
      "6X2=12\n",
      "6X3=18\n",
      "6X4=24\n",
      "6X5=30\n",
      "6X6=36\n",
      "6X7=42\n",
      "6X8=48\n",
      "6X9=54\n",
      "\n",
      "7X1=7\n",
      "7X2=14\n",
      "7X3=21\n",
      "7X4=28\n",
      "7X5=35\n",
      "7X6=42\n",
      "7X7=49\n",
      "7X8=56\n",
      "7X9=63\n",
      "\n",
      "8X1=8\n",
      "8X2=16\n",
      "8X3=24\n",
      "8X4=32\n",
      "8X5=40\n",
      "8X6=48\n",
      "8X7=56\n",
      "8X8=64\n",
      "8X9=72\n",
      "\n",
      "9X1=9\n",
      "9X2=18\n",
      "9X3=27\n",
      "9X4=36\n",
      "9X5=45\n",
      "9X6=54\n",
      "9X7=63\n",
      "9X8=72\n",
      "9X9=81\n",
      "\n"
     ]
    }
   ],
   "source": [
    "for n1 in range(2,10):\n",
    "    for n2 in range(1,10):\n",
    "        print(f\"{n1}X{n2}={n1*n2}\")\n",
    "    print()"
   ]
  },
  {
   "cell_type": "code",
   "execution_count": 12,
   "id": "38d889d6-aa94-47e7-9b57-ee4fcc6636a8",
   "metadata": {},
   "outputs": [
    {
     "name": "stdout",
     "output_type": "stream",
     "text": [
      "8145060 [45, 45, 45, 45, 45, 45]\n"
     ]
    }
   ],
   "source": [
    "# 1번~45번: 6개의 조합\n",
    "count=0\n",
    "for n1 in range(1,46):\n",
    "    for n2 in range(n1+1,46):\n",
    "        for n3 in range(n2+1,46):\n",
    "            for n4 in range(n3+1,46):\n",
    "                for n5 in range(n4+1,46):\n",
    "                    for n6 in range(n5+1,46):\n",
    "                        count+=1\n",
    "print(count, [n1,n2,n3,n4,n5,n6])"
   ]
  },
  {
   "cell_type": "code",
   "execution_count": 13,
   "id": "c6b3315c-dee2-447f-b349-db6638e23dc2",
   "metadata": {},
   "outputs": [
    {
     "data": {
      "text/plain": [
       "1.2277380399898834e-05"
      ]
     },
     "execution_count": 13,
     "metadata": {},
     "output_type": "execute_result"
    }
   ],
   "source": [
    "1/8145060*100"
   ]
  },
  {
   "cell_type": "code",
   "execution_count": 15,
   "id": "9665c430-904a-419c-bec4-1a2bb545522e",
   "metadata": {},
   "outputs": [
    {
     "name": "stdout",
     "output_type": "stream",
     "text": [
      "(0, 'paper')\n",
      "(1, 'phone')\n",
      "(2, 'money')\n"
     ]
    }
   ],
   "source": [
    "box=[\"paper\",\"phone\",\"money\"]\n",
    "\n",
    "for i in enumerate(box): #enumerate: box에 들어있는 위치값 시시\n",
    "    print(i)"
   ]
  }
 ],
 "metadata": {
  "kernelspec": {
   "display_name": "Python 3 (ipykernel)",
   "language": "python",
   "name": "python3"
  },
  "language_info": {
   "codemirror_mode": {
    "name": "ipython",
    "version": 3
   },
   "file_extension": ".py",
   "mimetype": "text/x-python",
   "name": "python",
   "nbconvert_exporter": "python",
   "pygments_lexer": "ipython3",
   "version": "3.12.7"
  }
 },
 "nbformat": 4,
 "nbformat_minor": 5
}
