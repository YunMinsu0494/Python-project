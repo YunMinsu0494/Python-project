{
 "cells": [
  {
   "cell_type": "code",
   "execution_count": 9,
   "id": "8adba6eb-b33b-490f-8b7b-374b2e20d729",
   "metadata": {},
   "outputs": [],
   "source": [
    "#클래스: 붕어빵을 만드는 틀 // 객체를 만들어내는 도구\n",
    "#함수와 변수들을 모아놓은 주머니\n",
    "\n",
    "class Bank:\n",
    "    #객체를 만들때 자동으로 딱 한번 실행되는 함수\n",
    "    def __init__(self):\n",
    "        print(\"가입을 축하합니다.\")\n",
    "        self.money=0\n",
    "        \n",
    "    def deposit(self, x):\n",
    "        self.money+=x"
   ]
  },
  {
   "cell_type": "code",
   "execution_count": 3,
   "id": "e6fce3bc-d985-4ac7-bbcc-bbbee7d1b1fe",
   "metadata": {},
   "outputs": [],
   "source": [
    "#person1 은 Bank에서 제공하는 모든 기능을 사용할 수 있는 권한\n",
    "person1=Bank()\n",
    "person1.deposit(70000)"
   ]
  },
  {
   "cell_type": "code",
   "execution_count": 4,
   "id": "97efaf85-8ee8-4453-9843-aa7747ebd48b",
   "metadata": {},
   "outputs": [],
   "source": [
    "person2=Bank()\n",
    "person2.deposit(30000)"
   ]
  },
  {
   "cell_type": "code",
   "execution_count": 5,
   "id": "d8dfe26c-8c35-4b35-9ee8-81cf025947a3",
   "metadata": {},
   "outputs": [
    {
     "data": {
      "text/plain": [
       "70000"
      ]
     },
     "execution_count": 5,
     "metadata": {},
     "output_type": "execute_result"
    }
   ],
   "source": [
    "person1.money"
   ]
  },
  {
   "cell_type": "code",
   "execution_count": 7,
   "id": "993ccfe5-167e-4d7c-a12a-37a34b9f782d",
   "metadata": {},
   "outputs": [
    {
     "data": {
      "text/plain": [
       "30000"
      ]
     },
     "execution_count": 7,
     "metadata": {},
     "output_type": "execute_result"
    }
   ],
   "source": [
    "person2.money"
   ]
  },
  {
   "cell_type": "code",
   "execution_count": 13,
   "id": "6a0c2ef4-7e78-4d87-bc23-4f515c30c341",
   "metadata": {},
   "outputs": [
    {
     "name": "stdout",
     "output_type": "stream",
     "text": [
      "가입을 축하합니다.\n"
     ]
    },
    {
     "data": {
      "text/plain": [
       "80000"
      ]
     },
     "execution_count": 13,
     "metadata": {},
     "output_type": "execute_result"
    }
   ],
   "source": [
    "person3=Bank()\n",
    "person3.deposit(30000)\n",
    "person3.deposit(50000)\n",
    "person3.money"
   ]
  },
  {
   "cell_type": "code",
   "execution_count": 14,
   "id": "dac5f2c6-bf13-4237-a356-47012571b510",
   "metadata": {},
   "outputs": [],
   "source": [
    "#Bank2 는 Bank에서 제공하는 모든 기능을 상속받는다.\n",
    "class Bank2(Bank):\n",
    "    pass"
   ]
  },
  {
   "cell_type": "code",
   "execution_count": 15,
   "id": "254f5eae-e677-4f53-a324-0252d1707148",
   "metadata": {},
   "outputs": [
    {
     "name": "stdout",
     "output_type": "stream",
     "text": [
      "가입을 축하합니다.\n"
     ]
    }
   ],
   "source": [
    "person4=Bank2()"
   ]
  },
  {
   "cell_type": "code",
   "execution_count": 23,
   "id": "32f4063d-4d4e-4328-8aa1-05a91a2015bc",
   "metadata": {},
   "outputs": [
    {
     "name": "stdin",
     "output_type": "stream",
     "text": [
      "입력:  h\n"
     ]
    },
    {
     "name": "stdout",
     "output_type": "stream",
     "text": [
      "제대로 된 숫자를 넣어주세요.\n"
     ]
    }
   ],
   "source": [
    "# 예외처리: 에러가 발생했을 때 그 에러를 무시하는 방법\n",
    "try:\n",
    "    n=int(input(\"입력: \"))\n",
    "    result=10/n\n",
    "    print(result)\n",
    "except ZeroDivisionError:\n",
    "    print(\"0으로 나누지 마세요.\")\n",
    "except ValueError:\n",
    "    print(\"제대로 된 숫자를 넣어주세요.\")"
   ]
  },
  {
   "cell_type": "code",
   "execution_count": 24,
   "id": "cca41696-b85f-45f0-b229-a86f3d53d57a",
   "metadata": {},
   "outputs": [
    {
     "name": "stdin",
     "output_type": "stream",
     "text": [
      "입력:  0\n"
     ]
    }
   ],
   "source": [
    "#try 안에서 에러가 났을때, 에러를 발생시키지말고 except를 실행해라.\n",
    "try:\n",
    "    n=int(input(\"입력: \"))\n",
    "    result=10/n\n",
    "    print(result)\n",
    "except:\n",
    "    pass"
   ]
  },
  {
   "cell_type": "code",
   "execution_count": 27,
   "id": "68f21a7e-0aea-4c41-b60f-50abd399ae33",
   "metadata": {},
   "outputs": [],
   "source": [
    "#파일 생성\n",
    "f=open(\"test.txt\",\"wt\") #write text\n",
    "for n in range(1,11):\n",
    "    f.write(f\"{n}번째 줄입니다.\\n\")\n",
    "\n",
    "f.close() #저장하고 닫기"
   ]
  },
  {
   "cell_type": "code",
   "execution_count": 28,
   "id": "2c0d7515-b19e-4208-aa34-c36feb69afc0",
   "metadata": {},
   "outputs": [],
   "source": [
    "#파일 생성\n",
    "f=open(\"test.txt\",\"at\") #attach text\n",
    "for n in range(1,11):\n",
    "    f.write(f\"{n}번째 줄입니다.\\n\")\n",
    "\n",
    "f.close() #저장하고 닫기"
   ]
  },
  {
   "cell_type": "code",
   "execution_count": 31,
   "id": "735732de-66ab-4345-a0d7-74f1af3cb809",
   "metadata": {},
   "outputs": [
    {
     "data": {
      "text/plain": [
       "['1번째 줄입니다.',\n",
       " '2번째 줄입니다.',\n",
       " '3번째 줄입니다.',\n",
       " '4번째 줄입니다.',\n",
       " '5번째 줄입니다.',\n",
       " '6번째 줄입니다.',\n",
       " '7번째 줄입니다.',\n",
       " '8번째 줄입니다.',\n",
       " '9번째 줄입니다.',\n",
       " '10번째 줄입니다.',\n",
       " '1번째 줄입니다.',\n",
       " '2번째 줄입니다.',\n",
       " '3번째 줄입니다.',\n",
       " '4번째 줄입니다.',\n",
       " '5번째 줄입니다.',\n",
       " '6번째 줄입니다.',\n",
       " '7번째 줄입니다.',\n",
       " '8번째 줄입니다.',\n",
       " '9번째 줄입니다.',\n",
       " '10번째 줄입니다.',\n",
       " '']"
      ]
     },
     "execution_count": 31,
     "metadata": {},
     "output_type": "execute_result"
    }
   ],
   "source": [
    "f=open(\"test.txt\",\"rt\") #read text\n",
    "\n",
    "text=f.read()\n",
    "f.close()\n",
    "\n",
    "text.split(\"\\n\")"
   ]
  },
  {
   "cell_type": "code",
   "execution_count": 32,
   "id": "4f9203ca-b419-4616-8fae-5330ff8440be",
   "metadata": {},
   "outputs": [],
   "source": [
    "import pickle\n",
    "\n",
    "box=[1,2,3,4,5]\n",
    "\n",
    "f=open(\"my_list.txt\",\"wb\") #write binary\n",
    "pickle.dump(box,f) #box를 f에 저장시키겠다\n",
    "f.close()"
   ]
  },
  {
   "cell_type": "code",
   "execution_count": 34,
   "id": "b4d70779-e788-469b-a503-424e9c1f328a",
   "metadata": {},
   "outputs": [
    {
     "data": {
      "text/plain": [
       "[3, 4]"
      ]
     },
     "execution_count": 34,
     "metadata": {},
     "output_type": "execute_result"
    }
   ],
   "source": [
    "f=open(\"my_list.txt\",\"rb\")\n",
    "box2=pickle.load(f)\n",
    "f.close()\n",
    "\n",
    "box[2:4]"
   ]
  },
  {
   "cell_type": "code",
   "execution_count": 36,
   "id": "8c331dea-0bb0-4d61-ae23-d89de46afa6d",
   "metadata": {
    "scrolled": true
   },
   "outputs": [
    {
     "name": "stdout",
     "output_type": "stream",
     "text": [
      "                                  2026\n",
      "\n",
      "      January                   February                   March\n",
      "Mo Tu We Th Fr Sa Su      Mo Tu We Th Fr Sa Su      Mo Tu We Th Fr Sa Su\n",
      "          1  2  3  4                         1                         1\n",
      " 5  6  7  8  9 10 11       2  3  4  5  6  7  8       2  3  4  5  6  7  8\n",
      "12 13 14 15 16 17 18       9 10 11 12 13 14 15       9 10 11 12 13 14 15\n",
      "19 20 21 22 23 24 25      16 17 18 19 20 21 22      16 17 18 19 20 21 22\n",
      "26 27 28 29 30 31         23 24 25 26 27 28         23 24 25 26 27 28 29\n",
      "                                                    30 31\n",
      "\n",
      "       April                      May                       June\n",
      "Mo Tu We Th Fr Sa Su      Mo Tu We Th Fr Sa Su      Mo Tu We Th Fr Sa Su\n",
      "       1  2  3  4  5                   1  2  3       1  2  3  4  5  6  7\n",
      " 6  7  8  9 10 11 12       4  5  6  7  8  9 10       8  9 10 11 12 13 14\n",
      "13 14 15 16 17 18 19      11 12 13 14 15 16 17      15 16 17 18 19 20 21\n",
      "20 21 22 23 24 25 26      18 19 20 21 22 23 24      22 23 24 25 26 27 28\n",
      "27 28 29 30               25 26 27 28 29 30 31      29 30\n",
      "\n",
      "        July                     August                  September\n",
      "Mo Tu We Th Fr Sa Su      Mo Tu We Th Fr Sa Su      Mo Tu We Th Fr Sa Su\n",
      "       1  2  3  4  5                      1  2          1  2  3  4  5  6\n",
      " 6  7  8  9 10 11 12       3  4  5  6  7  8  9       7  8  9 10 11 12 13\n",
      "13 14 15 16 17 18 19      10 11 12 13 14 15 16      14 15 16 17 18 19 20\n",
      "20 21 22 23 24 25 26      17 18 19 20 21 22 23      21 22 23 24 25 26 27\n",
      "27 28 29 30 31            24 25 26 27 28 29 30      28 29 30\n",
      "                          31\n",
      "\n",
      "      October                   November                  December\n",
      "Mo Tu We Th Fr Sa Su      Mo Tu We Th Fr Sa Su      Mo Tu We Th Fr Sa Su\n",
      "          1  2  3  4                         1          1  2  3  4  5  6\n",
      " 5  6  7  8  9 10 11       2  3  4  5  6  7  8       7  8  9 10 11 12 13\n",
      "12 13 14 15 16 17 18       9 10 11 12 13 14 15      14 15 16 17 18 19 20\n",
      "19 20 21 22 23 24 25      16 17 18 19 20 21 22      21 22 23 24 25 26 27\n",
      "26 27 28 29 30 31         23 24 25 26 27 28 29      28 29 30 31\n",
      "                          30\n",
      "\n"
     ]
    }
   ],
   "source": [
    "#라이브러리: 달력\n",
    "import calendar\n",
    "\n",
    "print(calendar.calendar(2026))"
   ]
  },
  {
   "cell_type": "code",
   "execution_count": 40,
   "id": "d9d68ca9-7c0f-4a13-b759-147e4f98dbf5",
   "metadata": {},
   "outputs": [
    {
     "data": {
      "text/plain": [
       "calendar.MONDAY"
      ]
     },
     "execution_count": 40,
     "metadata": {},
     "output_type": "execute_result"
    }
   ],
   "source": [
    "calendar.weekday(2012,12,31)"
   ]
  },
  {
   "cell_type": "code",
   "execution_count": 41,
   "id": "73d67653-6d0c-400c-8907-ed73b10a91d7",
   "metadata": {},
   "outputs": [
    {
     "data": {
      "text/plain": [
       "calendar.WEDNESDAY"
      ]
     },
     "execution_count": 41,
     "metadata": {},
     "output_type": "execute_result"
    }
   ],
   "source": [
    "from calendar import weekday as wd\n",
    "wd(2025,12,31)"
   ]
  },
  {
   "cell_type": "code",
   "execution_count": 42,
   "id": "7ec8eb51-4af6-46ec-8c99-98c6b3d5f0f3",
   "metadata": {},
   "outputs": [
    {
     "name": "stdout",
     "output_type": "stream",
     "text": [
      "Requirement already satisfied: tqdm in c:\\users\\campus4d032\\anaconda3\\lib\\site-packages (4.66.5)\n",
      "Requirement already satisfied: colorama in c:\\users\\campus4d032\\anaconda3\\lib\\site-packages (from tqdm) (0.4.6)\n"
     ]
    }
   ],
   "source": [
    "!pip install tqdm"
   ]
  },
  {
   "cell_type": "code",
   "execution_count": null,
   "id": "15262dac-509d-416d-9c70-771a95442acb",
   "metadata": {},
   "outputs": [],
   "source": []
  }
 ],
 "metadata": {
  "kernelspec": {
   "display_name": "Python 3 (ipykernel)",
   "language": "python",
   "name": "python3"
  },
  "language_info": {
   "codemirror_mode": {
    "name": "ipython",
    "version": 3
   },
   "file_extension": ".py",
   "mimetype": "text/x-python",
   "name": "python",
   "nbconvert_exporter": "python",
   "pygments_lexer": "ipython3",
   "version": "3.12.7"
  }
 },
 "nbformat": 4,
 "nbformat_minor": 5
}
