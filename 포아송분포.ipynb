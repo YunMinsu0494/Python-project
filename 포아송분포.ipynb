{
 "cells": [
  {
   "cell_type": "markdown",
   "id": "ebf940c1-ef70-40cc-a7c1-f6a7bc696222",
   "metadata": {},
   "source": [
    "# 포아송분포\n",
    "포아송분포(Poisson Distribution)는 단위 시간이나 단위 공간 내에서 어떤 사건이 발생하는 횟수를 모델링할 때 사용됩니다. 여기서 사건은 서로 독립적으로 발생하며, 단위 시간/공간 내에 평균적으로 일정한 횟수 λ (람다)로 발생한다고 가정합니다."
   ]
  },
  {
   "cell_type": "code",
   "execution_count": 4,
   "id": "c28b2f57-9e1b-4ff8-b571-695830b2457b",
   "metadata": {},
   "outputs": [
    {
     "data": {
      "text/plain": [
       "0.049787068367863944"
      ]
     },
     "execution_count": 4,
     "metadata": {},
     "output_type": "execute_result"
    }
   ],
   "source": [
    "import numpy as np\n",
    "import matplotlib.pyplot as plt\n",
    "from scipy.stats import poisson\n",
    "import koreanize_matplotlib\n",
    "\n",
    "np.exp(-3) # 자연상수 e 표현하는 방법"
   ]
  },
  {
   "cell_type": "code",
   "execution_count": 7,
   "id": "ead696ad-9aab-4fc9-939a-67b227f036ba",
   "metadata": {},
   "outputs": [
    {
     "data": {
      "text/plain": [
       "0.049787068367863944"
      ]
     },
     "execution_count": 7,
     "metadata": {},
     "output_type": "execute_result"
    }
   ],
   "source": [
    "# 포아송 분포로 확인하는 법\n",
    "# 평균적으로 교통사고가 3건이 발생할때 0번 교통사고가 날 확률\n",
    "poisson.pmf(0, 3)"
   ]
  },
  {
   "cell_type": "code",
   "execution_count": 22,
   "id": "0e8a0fba-7561-47fd-86e4-7e606e7e1df4",
   "metadata": {},
   "outputs": [
    {
     "name": "stdout",
     "output_type": "stream",
     "text": [
      "평균 3번 사고가 나는 곳에 0번 사고가 날 확률: 4.98%\n",
      "평균 3번 사고가 나는 곳에 1번 사고가 날 확률: 14.94%\n",
      "평균 3번 사고가 나는 곳에 2번 사고가 날 확률: 22.40%\n",
      "평균 3번 사고가 나는 곳에 3번 사고가 날 확률: 22.40%\n",
      "평균 3번 사고가 나는 곳에 4번 사고가 날 확률: 16.80%\n",
      "평균 3번 사고가 나는 곳에 5번 사고가 날 확률: 10.08%\n",
      "평균 3번 사고가 나는 곳에 6번 사고가 날 확률: 5.04%\n",
      "평균 3번 사고가 나는 곳에 7번 사고가 날 확률: 2.16%\n",
      "평균 3번 사고가 나는 곳에 8번 사고가 날 확률: 0.81%\n",
      "평균 3번 사고가 나는 곳에 9번 사고가 날 확률: 0.27%\n",
      "평균 3번 사고가 나는 곳에 10번 사고가 날 확률: 0.08%\n",
      "평균 3번 사고가 나는 곳에 11번 사고가 날 확률: 0.02%\n",
      "평균 3번 사고가 나는 곳에 12번 사고가 날 확률: 0.01%\n",
      "평균 3번 사고가 나는 곳에 13번 사고가 날 확률: 0.00%\n",
      "평균 3번 사고가 나는 곳에 14번 사고가 날 확률: 0.00%\n"
     ]
    }
   ],
   "source": [
    "# 확률 질량함수\n",
    "ks = np.arange(0, 15) #0부터 14까지의 값을 포함하는 배열을 생성\n",
    "ps = poisson.pmf(ks, 3)\n",
    "\n",
    "for k, p in zip(ks, ps):\n",
    "    print(f\"평균 3번 사고가 나는 곳에 {k}번 사고가 날 확률: {p*100:.2f}%\")"
   ]
  },
  {
   "cell_type": "code",
   "execution_count": 18,
   "id": "6ac6d1d9-e05b-4f71-96ff-cf9054bfacd1",
   "metadata": {},
   "outputs": [
    {
     "data": {
      "image/png": "[encoded data removed]",
      "text/plain": [
       "<Figure size 640x480 with 1 Axes>"
      ]
     },
     "metadata": {},
     "output_type": "display_data"
    }
   ],
   "source": [
    "# 시각화 해보기\n",
    "plt.stem(ks, ps)\n",
    "plt.grid()\n",
    "plt.show()"
   ]
  },
  {
   "cell_type": "code",
   "execution_count": 24,
   "id": "c1582c0a-20b8-4465-8f20-f1036dc963a4",
   "metadata": {},
   "outputs": [
    {
     "name": "stdout",
     "output_type": "stream",
     "text": [
      "평균 3번 사고가 발생하는 곳에 0번 이하로 사고가 날 확률: 4.98%\n",
      "평균 3번 사고가 발생하는 곳에 1번 이하로 사고가 날 확률: 19.91%\n",
      "평균 3번 사고가 발생하는 곳에 2번 이하로 사고가 날 확률: 42.32%\n",
      "평균 3번 사고가 발생하는 곳에 3번 이하로 사고가 날 확률: 64.72%\n",
      "평균 3번 사고가 발생하는 곳에 4번 이하로 사고가 날 확률: 81.53%\n",
      "평균 3번 사고가 발생하는 곳에 5번 이하로 사고가 날 확률: 91.61%\n",
      "평균 3번 사고가 발생하는 곳에 6번 이하로 사고가 날 확률: 96.65%\n",
      "평균 3번 사고가 발생하는 곳에 7번 이하로 사고가 날 확률: 98.81%\n",
      "평균 3번 사고가 발생하는 곳에 8번 이하로 사고가 날 확률: 99.62%\n",
      "평균 3번 사고가 발생하는 곳에 9번 이하로 사고가 날 확률: 99.89%\n",
      "평균 3번 사고가 발생하는 곳에 10번 이하로 사고가 날 확률: 99.97%\n",
      "평균 3번 사고가 발생하는 곳에 11번 이하로 사고가 날 확률: 99.99%\n",
      "평균 3번 사고가 발생하는 곳에 12번 이하로 사고가 날 확률: 100.00%\n",
      "평균 3번 사고가 발생하는 곳에 13번 이하로 사고가 날 확률: 100.00%\n",
      "평균 3번 사고가 발생하는 곳에 14번 이하로 사고가 날 확률: 100.00%\n"
     ]
    }
   ],
   "source": [
    "# 누적 질량 함수\n",
    "ps = poisson.cdf(ks, 3)\n",
    "\n",
    "for k, p in zip(ks, ps):\n",
    "    print(f\"평균 3번 사고가 발생하는 곳에 {k}번 이하로 사고가 날 확률: {p*100:.2f}%\")"
   ]
  },
  {
   "cell_type": "code",
   "execution_count": 28,
   "id": "6e3e0fda-37f7-42e1-8905-b3c333a0bac3",
   "metadata": {},
   "outputs": [
    {
     "data": {
      "image/png": "[encoded data removed]",
      "text/plain": [
       "<Figure size 640x480 with 1 Axes>"
      ]
     },
     "metadata": {},
     "output_type": "display_data"
    }
   ],
   "source": [
    "num = 10000\n",
    "samples = np.random.poisson(3, num) #평균 3인 포아송 분포를 따르는 num개의 샘플을 생성하는 코드\n",
    "\n",
    "plt.hist(samples, bins = \"auto\")\n",
    "plt.grid()\n",
    "plt.show()"
   ]
  },
  {
   "cell_type": "markdown",
   "id": "5eb5758f-f24c-4911-9c93-8b691f25af84",
   "metadata": {},
   "source": [
    "## 연습문제\n",
    "1. 어떤 현장에서 1시간 동안 평균적으로 λ=4 건의 사건이 발생한다고 한다. 이때 1시간 동안 정확히 2건의 사건이 발생할 확률 P(X=2)를 구하라."
   ]
  },
  {
   "cell_type": "code",
   "execution_count": 43,
   "id": "2b2d1c76-33d6-4753-b716-6b8abaf3f4bb",
   "metadata": {},
   "outputs": [
    {
     "data": {
      "text/plain": [
       "0.14652511110987343"
      ]
     },
     "execution_count": 43,
     "metadata": {},
     "output_type": "execute_result"
    }
   ],
   "source": [
    "poisson.pmf(2, 4) # 약 14.6%"
   ]
  },
  {
   "cell_type": "markdown",
   "id": "81f85ffe-956d-4374-9392-532f7e7572de",
   "metadata": {},
   "source": [
    "2. 어떤 공장에서 분당 평균 3개의 결함이 발생한다고 한다.\n",
    "만약 2분 동안 결함이 발생한다고 할 때, 결함이 4개 이하로 발생할 누적 확률 P(X≤4)를 구하라."
   ]
  },
  {
   "cell_type": "code",
   "execution_count": 44,
   "id": "38ca65c2-ef60-4994-81a4-cf9526742dad",
   "metadata": {},
   "outputs": [
    {
     "data": {
      "text/plain": [
       "0.2850565003166312"
      ]
     },
     "execution_count": 44,
     "metadata": {},
     "output_type": "execute_result"
    }
   ],
   "source": [
    "poisson.cdf(4, 6) # 약 28.5%"
   ]
  },
  {
   "cell_type": "markdown",
   "id": "aa6f6bf2-f994-4812-9735-74d87a360644",
   "metadata": {},
   "source": [
    "3. 한 카페에는 하루에 평균 λ=10명의 고객이 방문한다고 한다.\n",
    "하루 동안 15명 이상의 고객이 방문할 확률 P(X≥15)를 구하라."
   ]
  },
  {
   "cell_type": "code",
   "execution_count": 49,
   "id": "19996468-bfc9-4357-b6d0-aa0183422729",
   "metadata": {},
   "outputs": [
    {
     "data": {
      "text/plain": [
       "0.0834584729346628"
      ]
     },
     "execution_count": 49,
     "metadata": {},
     "output_type": "execute_result"
    }
   ],
   "source": [
    "1 - poisson.cdf(14, 10) # 약 8.3%"
   ]
  },
  {
   "cell_type": "markdown",
   "id": "0a53ea86-c641-4c8d-88b6-bc5a8d918f47",
   "metadata": {},
   "source": [
    "4. 어떤 버스 정류장에서 버스는 평균 2분에 한 대 도착한다.\n",
    "이때 5분 동안 도착하는 버스의 수가 2대 이하일 확률 P(X≤2)를 구하라."
   ]
  },
  {
   "cell_type": "code",
   "execution_count": 51,
   "id": "902ae5d9-09d1-4dfa-8e08-85f45e552e62",
   "metadata": {},
   "outputs": [
    {
     "data": {
      "text/plain": [
       "0.5438131158833297"
      ]
     },
     "execution_count": 51,
     "metadata": {},
     "output_type": "execute_result"
    }
   ],
   "source": [
    "poisson.cdf(2, 2.5) # 약 54.3%"
   ]
  },
  {
   "cell_type": "markdown",
   "id": "b6793634-f418-4f43-b116-1a6459efde22",
   "metadata": {},
   "source": [
    "5. 평균 λ=4인 포아송분포를 따르는 난수를 파이썬으로 10,000개 생성하고,\n",
    "이를 히스토그램으로 시각화한 후, 생성된 난수의 표본 평균과 표본 분산을 구하여 이론적 값과 비교해 보라."
   ]
  },
  {
   "cell_type": "code",
   "execution_count": 38,
   "id": "88446dfa-4298-4a39-8ee3-da0e2d4cf02a",
   "metadata": {},
   "outputs": [],
   "source": [
    "num = 10000\n",
    "sample = np.random.poisson(4, num)"
   ]
  },
  {
   "cell_type": "code",
   "execution_count": 39,
   "id": "f713e49c-38d0-4af2-8c00-2b99f6068c32",
   "metadata": {},
   "outputs": [
    {
     "data": {
      "image/png": "[encoded data removed]",
      "text/plain": [
       "<Figure size 640x480 with 1 Axes>"
      ]
     },
     "metadata": {},
     "output_type": "display_data"
    }
   ],
   "source": [
    "plt.hist(sample, bins = \"auto\")\n",
    "plt.grid()\n",
    "plt.show()"
   ]
  },
  {
   "cell_type": "code",
   "execution_count": 52,
   "id": "82368831-6411-4855-b2c3-17c299d20ace",
   "metadata": {},
   "outputs": [
    {
     "name": "stdout",
     "output_type": "stream",
     "text": [
      "표본 평균: 4.03, 표본 분산: 4.04\n"
     ]
    }
   ],
   "source": [
    "mean = sample.mean()\n",
    "var = sample.var()\n",
    "print(f\"표본 평균: {mean:.2f}, 표본 분산: {var:.2f}\")\n",
    "# 포아송 분포의 특징: 표본이 커질수록, 표본 평균과 표본 분산은 λ 값을 따른다."
   ]
  }
 ],
 "metadata": {
  "kernelspec": {
   "display_name": "Python 3 (ipykernel)",
   "language": "python",
   "name": "python3"
  },
  "language_info": {
   "codemirror_mode": {
    "name": "ipython",
    "version": 3
   },
   "file_extension": ".py",
   "mimetype": "text/x-python",
   "name": "python",
   "nbconvert_exporter": "python",
   "pygments_lexer": "ipython3",
   "version": "3.12.7"
  }
 },
 "nbformat": 4,
 "nbformat_minor": 5
}
