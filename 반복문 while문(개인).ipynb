{
 "cells": [
  {
   "cell_type": "code",
   "execution_count": 1,
   "id": "a6671f16-662b-488d-9178-2f5de2277496",
   "metadata": {},
   "outputs": [
    {
     "name": "stdout",
     "output_type": "stream",
     "text": [
      "나무를1번 찍었습니다.\n",
      "나무를2번 찍었습니다.\n",
      "나무를3번 찍었습니다.\n",
      "나무를4번 찍었습니다.\n",
      "나무를5번 찍었습니다.\n",
      "나무를6번 찍었습니다.\n",
      "나무를7번 찍었습니다.\n",
      "나무를8번 찍었습니다.\n",
      "나무를9번 찍었습니다.\n",
      "나무를10번 찍었습니다.\n",
      "나무가 쓰러졌습니다.\n"
     ]
    }
   ],
   "source": [
    "#반복문\n",
    "#while문: 조건이 참인동안 반복 // 몇번 반복일지 모를때 // 항상 참이 되지 않게\n",
    "#for문: 요청한 만큼만 순서대로 반복 // 알때\n",
    "\n",
    "hit=0\n",
    "while hit<10:\n",
    "    hit=hit+1\n",
    "    print(f\"나무를{hit}번 찍었습니다.\")\n",
    "    if hit==10:\n",
    "        print(\"나무가 쓰러졌습니다.\")"
   ]
  },
  {
   "cell_type": "code",
   "execution_count": 7,
   "id": "7f44318e-b9c1-46b5-891f-c3b3b1673b5b",
   "metadata": {},
   "outputs": [
    {
     "name": "stdout",
     "output_type": "stream",
     "text": [
      "커피를9잔 남았습니다.\n",
      "커피를8잔 남았습니다.\n",
      "커피를7잔 남았습니다.\n",
      "커피를6잔 남았습니다.\n",
      "커피를5잔 남았습니다.\n",
      "커피를4잔 남았습니다.\n",
      "커피를3잔 남았습니다.\n",
      "커피를2잔 남았습니다.\n",
      "커피를1잔 남았습니다.\n",
      "커피를0잔 남았습니다.\n",
      "매진되었습니다.\n"
     ]
    }
   ],
   "source": [
    "coffee=10\n",
    "while True:\n",
    "    coffee=coffee-1\n",
    "    print(f\"커피를{coffee}잔 남았습니다.\")\n",
    "    if coffee==0:\n",
    "        print(\"매진되었습니다.\")\n",
    "        break #반복문을 돌리다가 얘를 만나면 그 즉시 반복문을 빠져나옵니다.\n",
    "else:\n",
    "    print(\"정상종료\") #break 없이 끝까지 정상 실행된 경우에만 실행"
   ]
  },
  {
   "cell_type": "code",
   "execution_count": 6,
   "id": "a04e9a66-0f4b-482c-81da-7857a5af0bf8",
   "metadata": {},
   "outputs": [
    {
     "name": "stdout",
     "output_type": "stream",
     "text": [
      "1\n",
      "3\n",
      "5\n",
      "7\n",
      "9\n",
      "정상종료\n"
     ]
    }
   ],
   "source": [
    "a=0\n",
    "while a<10: #이쪽으로 이동!\n",
    "    a+=1 #a=a+1 과 동일한 뜻\n",
    "    if a%2==0:\n",
    "        continue # 얘를 만나면 시작점으로 이동\n",
    "    print(a)\n",
    "else:\n",
    "    print(\"정상종료\")"
   ]
  },
  {
   "cell_type": "code",
   "execution_count": null,
   "id": "0e1579e3-e0cf-46ff-a336-0ca772cf751c",
   "metadata": {},
   "outputs": [],
   "source": []
  }
 ],
 "metadata": {
  "kernelspec": {
   "display_name": "Python 3 (ipykernel)",
   "language": "python",
   "name": "python3"
  },
  "language_info": {
   "codemirror_mode": {
    "name": "ipython",
    "version": 3
   },
   "file_extension": ".py",
   "mimetype": "text/x-python",
   "name": "python",
   "nbconvert_exporter": "python",
   "pygments_lexer": "ipython3",
   "version": "3.12.7"
  }
 },
 "nbformat": 4,
 "nbformat_minor": 5
}
