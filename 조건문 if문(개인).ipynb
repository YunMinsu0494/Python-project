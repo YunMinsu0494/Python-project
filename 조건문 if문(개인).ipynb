{
 "cells": [
  {
   "cell_type": "code",
   "execution_count": 2,
   "id": "b5bc4dd4-cefd-45fe-b9b2-ec4205edcd5d",
   "metadata": {},
   "outputs": [],
   "source": [
    "#조건문 if문\n",
    "money=False\n",
    "if money ==True:\n",
    "    print(\"Taxi\")"
   ]
  },
  {
   "cell_type": "code",
   "execution_count": 5,
   "id": "c01eb862-f63b-4e99-b0c7-ea4e1c55f6c9",
   "metadata": {},
   "outputs": [
    {
     "name": "stdout",
     "output_type": "stream",
     "text": [
      "Taxi\n"
     ]
    }
   ],
   "source": [
    "money=2000\n",
    "card=True\n",
    "if money >=3000 or card==True:\n",
    "    print(\"Taxi\")\n",
    "else:\n",
    "    print(\"Walk\")"
   ]
  },
  {
   "cell_type": "code",
   "execution_count": 8,
   "id": "fbdc9d4e-d3f2-4045-a304-0eff6a19e6ea",
   "metadata": {},
   "outputs": [
    {
     "name": "stdout",
     "output_type": "stream",
     "text": [
      "Taxi\n"
     ]
    }
   ],
   "source": [
    "pocket=['papaer','phone']\n",
    "if 'money' in pocket:\n",
    "    print('Taxi')\n",
    "else:\n",
    "    if card==True:\n",
    "        print(\"Taxi\")\n",
    "    else:\n",
    "        print('Walk')"
   ]
  },
  {
   "cell_type": "code",
   "execution_count": 9,
   "id": "456250ca-c00a-4215-b6bf-b415c46815a3",
   "metadata": {},
   "outputs": [
    {
     "name": "stdout",
     "output_type": "stream",
     "text": [
      "Taxi\n"
     ]
    }
   ],
   "source": [
    "pocket=['papaer','phone']\n",
    "if 'money' in pocket:\n",
    "    print('Taxi')\n",
    "elif card==True:\n",
    "    print(\"Taxi\")\n",
    "else:\n",
    "    print('Walk')"
   ]
  },
  {
   "cell_type": "code",
   "execution_count": 10,
   "id": "5b0552e1-ab89-452f-92a3-d7d71196281a",
   "metadata": {},
   "outputs": [
    {
     "name": "stdout",
     "output_type": "stream",
     "text": [
      "B\n"
     ]
    }
   ],
   "source": [
    "score=85\n",
    "if score >= 90:\n",
    "    print(\"A\")\n",
    "elif score >= 80:\n",
    "    print(\"B\")\n",
    "elif score >= 70:\n",
    "    print(\"C\")\n",
    "elif score >= 60:\n",
    "    print(\"D\")\n",
    "else:\n",
    "    print(\"F\")"
   ]
  },
  {
   "cell_type": "code",
   "execution_count": 13,
   "id": "3df51351-cbd0-47a8-855c-2948820a819b",
   "metadata": {},
   "outputs": [
    {
     "name": "stdout",
     "output_type": "stream",
     "text": [
      "합격\n"
     ]
    }
   ],
   "source": [
    "#퀴즈:score 값이 80점 이상이면 message 변수에 \"합격\"\n",
    "#아니면 message 변수에 \"불합격\"을 넣고 message 변수를 출력해보세요\n",
    "score=85\n",
    "\n",
    "if score >=80:\n",
    "    message=\"합격\"\n",
    "else:\n",
    "    message=\"불합격\"\n",
    "print(message)"
   ]
  },
  {
   "cell_type": "code",
   "execution_count": 15,
   "id": "5a218096-0cea-4599-ad7b-af2ab41bdc3a",
   "metadata": {},
   "outputs": [
    {
     "data": {
      "text/plain": [
       "'불합격'"
      ]
     },
     "execution_count": 15,
     "metadata": {},
     "output_type": "execute_result"
    }
   ],
   "source": [
    "score=67\n",
    "message=\"합격\" if score>=80 else \"불합격\"\n",
    "message"
   ]
  },
  {
   "cell_type": "code",
   "execution_count": null,
   "id": "faa7ddca-97df-4fe0-8f1f-3eb282413a7c",
   "metadata": {},
   "outputs": [],
   "source": []
  }
 ],
 "metadata": {
  "kernelspec": {
   "display_name": "Python 3 (ipykernel)",
   "language": "python",
   "name": "python3"
  },
  "language_info": {
   "codemirror_mode": {
    "name": "ipython",
    "version": 3
   },
   "file_extension": ".py",
   "mimetype": "text/x-python",
   "name": "python",
   "nbconvert_exporter": "python",
   "pygments_lexer": "ipython3",
   "version": "3.12.7"
  }
 },
 "nbformat": 4,
 "nbformat_minor": 5
}
