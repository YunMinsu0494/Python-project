{
 "cells": [
  {
   "cell_type": "code",
   "execution_count": 32,
   "id": "92c873af-b069-437f-8ed3-c297b3b9f514",
   "metadata": {},
   "outputs": [
    {
     "data": {
      "text/plain": [
       "True"
      ]
     },
     "execution_count": 32,
     "metadata": {},
     "output_type": "execute_result"
    }
   ],
   "source": [
    "#딕셔너리 자료형 // 무조건 Key값 기준으로 판단/수행\n",
    "dic={\"이름\":\"홍길동\",\n",
    "    \"나이\":40,\n",
    "    \"성별\":\"남자\"}\n",
    "#len(dic)\n",
    "\"이름\" in dic"
   ]
  },
  {
   "cell_type": "code",
   "execution_count": 33,
   "id": "83c6d19a-4a06-4377-999d-76af51582422",
   "metadata": {},
   "outputs": [
    {
     "ename": "KeyError",
     "evalue": "'홍길동'",
     "output_type": "error",
     "traceback": [
      "\u001b[1;31m---------------------------------------------------------------------------\u001b[0m",
      "\u001b[1;31mKeyError\u001b[0m                                  Traceback (most recent call last)",
      "Cell \u001b[1;32mIn[33], line 1\u001b[0m\n\u001b[1;32m----> 1\u001b[0m dic[\u001b[38;5;124m\"\u001b[39m\u001b[38;5;124m홍길동\u001b[39m\u001b[38;5;124m\"\u001b[39m]\n",
      "\u001b[1;31mKeyError\u001b[0m: '홍길동'"
     ]
    }
   ],
   "source": [
    "dic[\"홍길동\"]"
   ]
  },
  {
   "cell_type": "code",
   "execution_count": 34,
   "id": "c17d029f-5b09-4eee-b860-c2f7bc6febfe",
   "metadata": {},
   "outputs": [
    {
     "data": {
      "text/plain": [
       "'그런 키값 없습니다'"
      ]
     },
     "execution_count": 34,
     "metadata": {},
     "output_type": "execute_result"
    }
   ],
   "source": [
    "dic.get(\"이상형\",\"그런 키값 없습니다\")"
   ]
  },
  {
   "cell_type": "code",
   "execution_count": 35,
   "id": "8af0fab9-1ab7-42bd-b04c-ca66017bb75a",
   "metadata": {},
   "outputs": [
    {
     "data": {
      "text/plain": [
       "{'이름': '홍길동', '나이': 40, '성별': '남자', '이상형': '장원영'}"
      ]
     },
     "execution_count": 35,
     "metadata": {},
     "output_type": "execute_result"
    }
   ],
   "source": [
    "#값 추가\n",
    "dic[\"이상형\"]=\"장원영\"\n",
    "dic"
   ]
  },
  {
   "cell_type": "code",
   "execution_count": 36,
   "id": "a6f9efef-46bd-4959-9591-43c4f06ce037",
   "metadata": {},
   "outputs": [
    {
     "data": {
      "text/plain": [
       "{'이름': '강동원', '나이': 40, '성별': '남자', '이상형': '장원영'}"
      ]
     },
     "execution_count": 36,
     "metadata": {},
     "output_type": "execute_result"
    }
   ],
   "source": [
    "#키 값은 고유하다 // 값 변경\n",
    "dic[\"이름\"] = \"강동원\"\n",
    "dic"
   ]
  },
  {
   "cell_type": "code",
   "execution_count": 37,
   "id": "4596f44c-4731-4c49-b3a9-6359641f6af1",
   "metadata": {},
   "outputs": [
    {
     "data": {
      "text/plain": [
       "{'이름': '강동원', '나이': 40, '성별': '남자'}"
      ]
     },
     "execution_count": 37,
     "metadata": {},
     "output_type": "execute_result"
    }
   ],
   "source": [
    "#값 삭제\n",
    "del dic[\"이상형\"]\n",
    "dic"
   ]
  },
  {
   "cell_type": "code",
   "execution_count": 17,
   "id": "3e61eaf0-4f98-4473-aa79-0835215e88a2",
   "metadata": {},
   "outputs": [
    {
     "data": {
      "text/plain": [
       "{'이름': '강동원', '나이': 40}"
      ]
     },
     "execution_count": 17,
     "metadata": {},
     "output_type": "execute_result"
    }
   ],
   "source": [
    "z=dic.pop(\"성별\")\n",
    "dic"
   ]
  },
  {
   "cell_type": "code",
   "execution_count": 18,
   "id": "d7162e7b-107e-4688-8a30-3e943b3bf094",
   "metadata": {},
   "outputs": [
    {
     "data": {
      "text/plain": [
       "'남자'"
      ]
     },
     "execution_count": 18,
     "metadata": {},
     "output_type": "execute_result"
    }
   ],
   "source": [
    "z"
   ]
  },
  {
   "cell_type": "code",
   "execution_count": 21,
   "id": "be9ecc2e-f3fd-48cf-bf64-ff52fc813236",
   "metadata": {},
   "outputs": [
    {
     "data": {
      "text/plain": [
       "(dict_keys(['이름', '나이']), dict_values(['강동원', 40]))"
      ]
     },
     "execution_count": 21,
     "metadata": {},
     "output_type": "execute_result"
    }
   ],
   "source": [
    "#key값 들만 확인.// value값들만 확인\n",
    "dic.keys(), dic.values()"
   ]
  },
  {
   "cell_type": "code",
   "execution_count": 23,
   "id": "f0f0c46e-96a8-4aa3-a84f-f22cc9c63e24",
   "metadata": {},
   "outputs": [
    {
     "data": {
      "text/plain": [
       "dict_items([('이름', '강동원'), ('나이', 40)])"
      ]
     },
     "execution_count": 23,
     "metadata": {},
     "output_type": "execute_result"
    }
   ],
   "source": [
    "#키-밸류가 튜플로 묶여서 리스트에 저장.\n",
    "dic.items()"
   ]
  },
  {
   "cell_type": "code",
   "execution_count": 25,
   "id": "b4a38089-5a1a-405b-967c-50c78cb7212a",
   "metadata": {},
   "outputs": [
    {
     "data": {
      "text/plain": [
       "{'이름': '홍길동', '나이': 40, '사는곳': '대구'}"
      ]
     },
     "execution_count": 25,
     "metadata": {},
     "output_type": "execute_result"
    }
   ],
   "source": [
    "#딕셔너리끼리 합쳐야 하는 경우\n",
    "dic2={\"사는곳\":\"대구\", \"이름\":\"홍길동\"}\n",
    "dic.update(dic2)\n",
    "dic"
   ]
  },
  {
   "cell_type": "code",
   "execution_count": 31,
   "id": "cdaac209-1fe4-4985-a1f1-14954ea92d60",
   "metadata": {},
   "outputs": [
    {
     "name": "stdout",
     "output_type": "stream",
     "text": [
      "이름 홍길동\n",
      "나이 40\n",
      "사는곳 대구\n"
     ]
    }
   ],
   "source": [
    "#dic 안에 있는 것들을 순서대로 변수 i 에 넣는다.\n",
    "for i,j in dic.items():\n",
    "    print(i,j)"
   ]
  },
  {
   "cell_type": "code",
   "execution_count": null,
   "id": "5110531e-c7e9-4a1e-98a6-04846a38e879",
   "metadata": {},
   "outputs": [],
   "source": []
  },
  {
   "cell_type": "code",
   "execution_count": null,
   "id": "3f6c7efb-42a6-4ac4-95cf-766e815c2ff0",
   "metadata": {},
   "outputs": [],
   "source": []
  }
 ],
 "metadata": {
  "kernelspec": {
   "display_name": "Python 3 (ipykernel)",
   "language": "python",
   "name": "python3"
  },
  "language_info": {
   "codemirror_mode": {
    "name": "ipython",
    "version": 3
   },
   "file_extension": ".py",
   "mimetype": "text/x-python",
   "name": "python",
   "nbconvert_exporter": "python",
   "pygments_lexer": "ipython3",
   "version": "3.12.7"
  }
 },
 "nbformat": 4,
 "nbformat_minor": 5
}
