{
 "cells": [
  {
   "cell_type": "code",
   "execution_count": 2,
   "id": "48772c83-09c9-464f-8be0-0a5da9a23dac",
   "metadata": {},
   "outputs": [],
   "source": [
    "#불 자료형: 참과 거짓\n",
    "a=True\n",
    "b=False"
   ]
  },
  {
   "cell_type": "code",
   "execution_count": 12,
   "id": "8eb239fa-9bba-4100-be84-9cc3fa1005c3",
   "metadata": {},
   "outputs": [
    {
     "data": {
      "text/plain": [
       "True"
      ]
     },
     "execution_count": 12,
     "metadata": {},
     "output_type": "execute_result"
    }
   ],
   "source": [
    "#모든것은 참과 거짓을 구분할 수 있다.\n",
    "5>=3\n",
    "#비어있으면 거짓\n",
    "bool(\"t\")"
   ]
  },
  {
   "cell_type": "code",
   "execution_count": 13,
   "id": "bd5326d4-a31e-45d6-b8d2-4a0fd90c9bc9",
   "metadata": {},
   "outputs": [
    {
     "data": {
      "text/plain": [
       "False"
      ]
     },
     "execution_count": 13,
     "metadata": {},
     "output_type": "execute_result"
    }
   ],
   "source": [
    "5==True"
   ]
  },
  {
   "cell_type": "code",
   "execution_count": 15,
   "id": "9e374d1e-3f6e-4d9a-a51d-656c77785243",
   "metadata": {},
   "outputs": [
    {
     "data": {
      "text/plain": [
       "True"
      ]
     },
     "execution_count": 15,
     "metadata": {},
     "output_type": "execute_result"
    }
   ],
   "source": [
    "# !=  -> 다르다\n",
    "bool(5)==True"
   ]
  },
  {
   "cell_type": "code",
   "execution_count": 17,
   "id": "f5ba4254-038e-41c6-962d-91b0f54ca23c",
   "metadata": {},
   "outputs": [
    {
     "data": {
      "text/plain": [
       "False"
      ]
     },
     "execution_count": 17,
     "metadata": {},
     "output_type": "execute_result"
    }
   ],
   "source": [
    "box=[1,2,3,0]\n",
    "all(box) #모든 값이 참일때만 참"
   ]
  },
  {
   "cell_type": "code",
   "execution_count": 19,
   "id": "46200cb0-cfce-456b-8c77-30d705db0297",
   "metadata": {},
   "outputs": [
    {
     "data": {
      "text/plain": [
       "True"
      ]
     },
     "execution_count": 19,
     "metadata": {},
     "output_type": "execute_result"
    }
   ],
   "source": [
    "box=[0,0,0,5]\n",
    "any(box) #단 한개라도 참이면 참"
   ]
  },
  {
   "cell_type": "code",
   "execution_count": 21,
   "id": "ae3acf19-8a14-448d-bb46-f50761417bf6",
   "metadata": {},
   "outputs": [
    {
     "data": {
      "text/plain": [
       "(1, 0)"
      ]
     },
     "execution_count": 21,
     "metadata": {},
     "output_type": "execute_result"
    }
   ],
   "source": [
    "#int(\"5\")+int(\"3\")\n",
    "int(True), int(False)"
   ]
  },
  {
   "cell_type": "code",
   "execution_count": 22,
   "id": "5926829f-a26e-4cd0-9239-93edbed9d272",
   "metadata": {},
   "outputs": [
    {
     "data": {
      "text/plain": [
       "(False, True)"
      ]
     },
     "execution_count": 22,
     "metadata": {},
     "output_type": "execute_result"
    }
   ],
   "source": [
    "a=True #1\n",
    "b=False #0\n",
    "\n",
    "#a와 b가 모두 참이여야 함 // a와 b중 하나라도 참이면 참\n",
    "a and b, a or b"
   ]
  },
  {
   "cell_type": "code",
   "execution_count": 23,
   "id": "3c5f5ee4-f732-4a0f-a162-a9075e25b611",
   "metadata": {},
   "outputs": [
    {
     "data": {
      "text/plain": [
       "True"
      ]
     },
     "execution_count": 23,
     "metadata": {},
     "output_type": "execute_result"
    }
   ],
   "source": [
    "not b"
   ]
  }
 ],
 "metadata": {
  "kernelspec": {
   "display_name": "Python 3 (ipykernel)",
   "language": "python",
   "name": "python3"
  },
  "language_info": {
   "codemirror_mode": {
    "name": "ipython",
    "version": 3
   },
   "file_extension": ".py",
   "mimetype": "text/x-python",
   "name": "python",
   "nbconvert_exporter": "python",
   "pygments_lexer": "ipython3",
   "version": "3.12.7"
  }
 },
 "nbformat": 4,
 "nbformat_minor": 5
}
